{
  "nbformat": 4,
  "nbformat_minor": 0,
  "metadata": {
    "colab": {
      "provenance": []
    },
    "kernelspec": {
      "name": "python3",
      "display_name": "Python 3"
    },
    "language_info": {
      "name": "python"
    }
  },
  "cells": [
    {
      "cell_type": "code",
      "execution_count": 1,
      "metadata": {
        "id": "2e8MQAkenGOv",
        "outputId": "62518b13-a588-44eb-ee7b-64f3aa082dcf",
        "colab": {
          "base_uri": "https://localhost:8080/"
        }
      },
      "outputs": [
        {
          "output_type": "stream",
          "name": "stdout",
          "text": [
            "Welcome\n"
          ]
        }
      ],
      "source": [
        "print(\"Welcome\")"
      ]
    },
    {
      "cell_type": "code",
      "source": [
        "text = \"NttData\"\n",
        "f = open(\"aaa.txt\", \"w\")\n",
        "f.write(text)\n",
        "f.close()"
      ],
      "metadata": {
        "id": "rTV6RmwkrD3D"
      },
      "execution_count": 4,
      "outputs": []
    },
    {
      "cell_type": "code",
      "source": [
        "f1 = open(\"aaa.txt\",\"r\")\n",
        "data = f1.read()\n",
        "print(data)"
      ],
      "metadata": {
        "id": "KhObFpEEwKhd",
        "outputId": "244fbee2-e381-4ace-ba62-54b12415ebb5",
        "colab": {
          "base_uri": "https://localhost:8080/"
        }
      },
      "execution_count": 5,
      "outputs": [
        {
          "output_type": "stream",
          "name": "stdout",
          "text": [
            "NttData\n"
          ]
        }
      ]
    }
  ]
}